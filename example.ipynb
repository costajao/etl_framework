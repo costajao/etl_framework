{
 "cells": [
  {
   "cell_type": "code",
   "execution_count": 1,
   "id": "644504d7-3153-4bd8-a85f-6bedfc84fe30",
   "metadata": {
    "tags": []
   },
   "outputs": [],
   "source": [
    "import os\n",
    "from framework import PandasBB as pbb"
   ]
  },
  {
   "cell_type": "code",
   "execution_count": 2,
   "id": "500a7674-a961-4871-b401-6b6c09613a3c",
   "metadata": {
    "tags": []
   },
   "outputs": [
    {
     "name": "stdout",
     "output_type": "stream",
     "text": [
      "INFO: Carregando as credenciais de desenvolvimento...\n"
     ]
    }
   ],
   "source": [
    "if os.environ['AMBIENTE'] == 'MODELAGEM':\n",
    "    print('INFO: Carregando as credenciais de desenvolvimento...')\n",
    "    uid  = 'DB2I127A'\n",
    "    pwd  = '99689720'\n",
    "    host = 'gwdb2.bb.com.br'\n",
    "    port = '50100'\n",
    "    db   = 'BDB2P04'\n",
    "else:\n",
    "    print('INFO: Carregando as credenciais de produção...')\n",
    "    try:\n",
    "        os.environ['DB2_PORT']\n",
    "    except:\n",
    "        os.environ['DB2_PORT'] = os.environ['DB2_PORTA']\n",
    "    uid  = os.environ['DB2_USER']\n",
    "    pwd  = os.environ['DB2_PASSWORD']\n",
    "    host = os.environ['DB2_HOST']\n",
    "    port = os.environ['DB2_PORT']\n",
    "    db   = os.environ['DB2_DATABASE']"
   ]
  },
  {
   "cell_type": "code",
   "execution_count": 3,
   "id": "584a9da5-de73-4bae-a45e-05a3af02012d",
   "metadata": {
    "tags": []
   },
   "outputs": [
    {
     "name": "stderr",
     "output_type": "stream",
     "text": [
      "/projeto/bc49e8e1-5396-4bfd-9e28-6a9dc2aaaf89/workdir/eng_cops/cops.py:30: UserWarning: pandas only supports SQLAlchemy connectable (engine/connection) or database string URI or sqlite3 DBAPI2 connection. Other DBAPI2 objects are not tested. Please consider using SQLAlchemy.\n",
      "  df = pandas.read_sql(query, dbi)\n"
     ]
    }
   ],
   "source": [
    "sql = \"\"\"\n",
    "SELECT \n",
    "    DT_SDO AS DT_REF, \n",
    "    NM_TIP_PBCO,\n",
    "    sum(VL_SDO) AS VL_SDO\n",
    "FROM DB2T5A.SDO_ENG_RNV_MSL \n",
    "WHERE DT_SDO >= (SELECT ADD_MONTHS(MAX(DT_SDO), -23) DT_SDO FROM DB2T5A.SDO_ENG_RNV_MSL)\n",
    "GROUP BY DT_SDO, NM_TIP_PBCO\n",
    "ORDER BY DT_SDO DESC\n",
    "\"\"\"\n",
    "\n",
    "df_pre = pbb.select_db2(uid, pwd, sql)"
   ]
  },
  {
   "cell_type": "code",
   "execution_count": 4,
   "id": "faf36d4c-6b41-4614-94bd-2c46f780b8ec",
   "metadata": {
    "tags": []
   },
   "outputs": [
    {
     "name": "stderr",
     "output_type": "stream",
     "text": [
      "/projeto/bc49e8e1-5396-4bfd-9e28-6a9dc2aaaf89/workdir/eng_cops/cops.py:30: UserWarning: pandas only supports SQLAlchemy connectable (engine/connection) or database string URI or sqlite3 DBAPI2 connection. Other DBAPI2 objects are not tested. Please consider using SQLAlchemy.\n",
      "  df = pandas.read_sql(query, dbi)\n"
     ]
    }
   ],
   "source": [
    "tbl = \"SELECT * FROM DB2I1014.CNSD_SDO_ENG_RNV\"\n",
    "user = \"DB2I1014\"\n",
    "password = \"87025801\"\n",
    "\n",
    "df_tbl = pbb.select_db2(user, password, tbl)"
   ]
  },
  {
   "cell_type": "code",
   "execution_count": 5,
   "id": "82a81b95-44db-4431-ac8f-00d4b7dc279d",
   "metadata": {
    "tags": []
   },
   "outputs": [],
   "source": [
    "# Conta a quantidade de registros na origem\n",
    "qtd = len(df_pre.index)"
   ]
  },
  {
   "cell_type": "code",
   "execution_count": 6,
   "id": "d21250fb-d05f-44b2-bad4-b8857648846c",
   "metadata": {
    "tags": []
   },
   "outputs": [],
   "source": [
    "# Valida se existe a data atual de carga na tabela final\n",
    "dt = pbb.max_date_exists(df_pre, df_tbl, 'DT_REF')"
   ]
  },
  {
   "cell_type": "code",
   "execution_count": 7,
   "id": "cb50af8d-caa1-45a3-9129-7609e99d0ca4",
   "metadata": {
    "tags": []
   },
   "outputs": [],
   "source": [
    "# Valida se a quantidade de segmentos na carga está correta\n",
    "df_g = df_pre\n",
    "g = pbb.count_by_group(df_g[df_g['DT_REF']==df_pre['DT_REF'].max()], 'NM_TIP_PBCO')"
   ]
  },
  {
   "cell_type": "code",
   "execution_count": 8,
   "id": "f7c441f5-1010-4078-8fe8-4d5f7e44b934",
   "metadata": {
    "tags": []
   },
   "outputs": [],
   "source": [
    "# Agrupa os dados pelo saldo mensal\n",
    "df_group = df_pre.groupby('DT_REF', as_index=False)['VL_SDO'].sum()\n",
    "df_sdo = df_group.sort_values(by='DT_REF', ascending=False)"
   ]
  },
  {
   "cell_type": "code",
   "execution_count": 9,
   "id": "14800a4f-53cd-4d9e-8128-570d0eaaddbc",
   "metadata": {
    "tags": []
   },
   "outputs": [],
   "source": [
    "# Calcula o percentual variação\n",
    "df_pct = df_group\n",
    "df_out = pbb.percent_variation(df_pct, 'VL_SDO', 10)\n",
    "qtd_pct = len(df_out.index)"
   ]
  },
  {
   "cell_type": "code",
   "execution_count": 10,
   "id": "1c618de2-859e-40bc-bc91-e7a193179586",
   "metadata": {
    "tags": []
   },
   "outputs": [],
   "source": [
    "load = False\n",
    "sts = 0\n",
    "if qtd > 0:\n",
    "    if dt == False:\n",
    "        if qtd_pct == 0:            \n",
    "            if g == 4:\n",
    "                load = True\n",
    "            else:\n",
    "                sts = 3\n",
    "                load = False\n",
    "        else:\n",
    "            sts = 4\n",
    "            load = False\n",
    "    else:\n",
    "        sts = 2\n",
    "        load = False\n",
    "else:\n",
    "    sts = 5\n",
    "    load = False"
   ]
  },
  {
   "cell_type": "code",
   "execution_count": 13,
   "id": "7d21bcbb-0ef4-41db-a739-d495579b7222",
   "metadata": {
    "tags": []
   },
   "outputs": [],
   "source": [
    "df_sdo['CD_EST'] = sts"
   ]
  },
  {
   "cell_type": "code",
   "execution_count": 17,
   "id": "6230277f-8d49-46d5-bcef-2c3e5d25717f",
   "metadata": {
    "tags": []
   },
   "outputs": [],
   "source": [
    "# Cria colunas da carga\n",
    "df_ts = pbb.get_timestamp(df_sdo)"
   ]
  },
  {
   "cell_type": "code",
   "execution_count": 19,
   "id": "a147899c-58b6-4a42-afa2-3df330c584c7",
   "metadata": {
    "tags": []
   },
   "outputs": [],
   "source": [
    "# Renomeia coluna de timestamp\n",
    "df_pos = pbb.rename_column(df_ts, 'timestamp', 'TS_ATL')"
   ]
  },
  {
   "cell_type": "code",
   "execution_count": 23,
   "id": "58f906e2-401b-44cb-a5ab-97ab2f5a5756",
   "metadata": {
    "tags": []
   },
   "outputs": [],
   "source": [
    "# Ordena colunas para gravação\n",
    "df = pbb.order_columns(df_pos, df_tbl)"
   ]
  },
  {
   "cell_type": "code",
   "execution_count": null,
   "id": "a1db582d-7816-4034-91cf-d625a252b72d",
   "metadata": {},
   "outputs": [],
   "source": [
    "table = 'DB2I1014.CNSD_SDO_ENG_RNV'"
   ]
  },
  {
   "cell_type": "raw",
   "id": "5cc752ae-1de4-49c1-a5dc-f6e1a77236b1",
   "metadata": {
    "tags": []
   },
   "source": [
    "## Condicional se a carga estiver válida\n",
    "if load:\n",
    "    pbb.insert_db2(uid, pwd, df, table)\n",
    "else:\n",
    "    print(\"Requisitos não atendidos...\")"
   ]
  },
  {
   "cell_type": "code",
   "execution_count": 22,
   "id": "3318e58f-8d35-46b7-88f6-28aa6659ed79",
   "metadata": {
    "tags": []
   },
   "outputs": [
    {
     "name": "stdout",
     "output_type": "stream",
     "text": [
      "Conexão criada.\n",
      "INSERT INTO DB2I1014.CNSD_SDO_ENG_RNV (TS_ATL, DT_REF, VL_SDO, CD_EST) VALUES (?, ?, ?, ?)\n",
      "Dados inseridos com sucesso a partir do DataFrame.\n",
      "Conexão fechada.\n"
     ]
    }
   ],
   "source": [
    "pbb.insert_db2(user, password, df, table)"
   ]
  },
  {
   "cell_type": "code",
   "execution_count": null,
   "id": "54d648f3-ef55-43b0-97e2-b1effb2e43d1",
   "metadata": {},
   "outputs": [],
   "source": [
    "# end"
   ]
  }
 ],
 "metadata": {
  "kernelspec": {
   "display_name": "Python 3 (ipykernel)",
   "language": "python",
   "name": "python3"
  },
  "language_info": {
   "codemirror_mode": {
    "name": "ipython",
    "version": 3
   },
   "file_extension": ".py",
   "mimetype": "text/x-python",
   "name": "python",
   "nbconvert_exporter": "python",
   "pygments_lexer": "ipython3",
   "version": "3.11.0"
  }
 },
 "nbformat": 4,
 "nbformat_minor": 5
}
